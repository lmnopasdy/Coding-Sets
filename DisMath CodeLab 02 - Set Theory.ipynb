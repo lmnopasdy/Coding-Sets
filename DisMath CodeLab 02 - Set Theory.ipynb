{
 "cells": [
  {
   "cell_type": "markdown",
   "metadata": {},
   "source": [
    "## Coding Activity: Set Theory"
   ]
  },
  {
   "cell_type": "code",
   "execution_count": 34,
   "metadata": {},
   "outputs": [],
   "source": [
    "dark_type = [\"Absol\", \"Zoroark\", \"Moltres(Galarian Form)\", \"Yveltal\"]\n",
    "flying_type = [\"Corvisquire\", \"Tornadus\", \"Moltres(Galarian Form)\", \"Yveltal\"]\n",
    "dark = set(dark_type)\n",
    "flying = set(flying_type)"
   ]
  },
  {
   "cell_type": "markdown",
   "metadata": {},
   "source": [
    "## Inner Join"
   ]
  },
  {
   "cell_type": "code",
   "execution_count": 35,
   "metadata": {},
   "outputs": [
    {
     "data": {
      "text/plain": [
       "{'Moltres(Galarian Form)', 'Yveltal'}"
      ]
     },
     "execution_count": 35,
     "metadata": {},
     "output_type": "execute_result"
    }
   ],
   "source": [
    "common = dark.intersection(flying)\n",
    "common ##inner join"
   ]
  },
  {
   "cell_type": "markdown",
   "metadata": {},
   "source": [
    "## Left Join"
   ]
  },
  {
   "cell_type": "code",
   "execution_count": 36,
   "metadata": {},
   "outputs": [
    {
     "data": {
      "text/plain": [
       "{'Absol', 'Moltres(Galarian Form)', 'Yveltal', 'Zoroark'}"
      ]
     },
     "execution_count": 36,
     "metadata": {},
     "output_type": "execute_result"
    }
   ],
   "source": [
    "dark_ljoin = common.union(dark)\n",
    "dark_ljoin"
   ]
  },
  {
   "cell_type": "markdown",
   "metadata": {},
   "source": [
    "## Right Join"
   ]
  },
  {
   "cell_type": "code",
   "execution_count": 37,
   "metadata": {
    "scrolled": true
   },
   "outputs": [
    {
     "data": {
      "text/plain": [
       "{'Corvisquire', 'Moltres(Galarian Form)', 'Tornadus', 'Yveltal'}"
      ]
     },
     "execution_count": 37,
     "metadata": {},
     "output_type": "execute_result"
    }
   ],
   "source": [
    "flying_rjoin = common.union(flying)\n",
    "flying_rjoin"
   ]
  },
  {
   "cell_type": "markdown",
   "metadata": {},
   "source": [
    "## Left Exclusive Join"
   ]
  },
  {
   "cell_type": "code",
   "execution_count": 38,
   "metadata": {},
   "outputs": [
    {
     "data": {
      "text/plain": [
       "{'Absol', 'Zoroark'}"
      ]
     },
     "execution_count": 38,
     "metadata": {},
     "output_type": "execute_result"
    }
   ],
   "source": [
    "dark_exljoin = dark.difference(flying)\n",
    "dark_exljoin"
   ]
  },
  {
   "cell_type": "markdown",
   "metadata": {},
   "source": [
    "## Right Exclusive Join"
   ]
  },
  {
   "cell_type": "code",
   "execution_count": 39,
   "metadata": {},
   "outputs": [
    {
     "data": {
      "text/plain": [
       "{'Corvisquire', 'Tornadus'}"
      ]
     },
     "execution_count": 39,
     "metadata": {},
     "output_type": "execute_result"
    }
   ],
   "source": [
    "flying_exrjoin = flying.difference(dark)\n",
    "flying_exrjoin"
   ]
  },
  {
   "cell_type": "markdown",
   "metadata": {},
   "source": [
    "## Full Outer Join"
   ]
  },
  {
   "cell_type": "code",
   "execution_count": 40,
   "metadata": {},
   "outputs": [
    {
     "data": {
      "text/plain": [
       "{'Absol',\n",
       " 'Corvisquire',\n",
       " 'Moltres(Galarian Form)',\n",
       " 'Tornadus',\n",
       " 'Yveltal',\n",
       " 'Zoroark'}"
      ]
     },
     "execution_count": 40,
     "metadata": {},
     "output_type": "execute_result"
    }
   ],
   "source": [
    "foj = dark.union(flying)\n",
    "foj"
   ]
  },
  {
   "cell_type": "markdown",
   "metadata": {},
   "source": [
    "## Full Outer Exclusive Join"
   ]
  },
  {
   "cell_type": "code",
   "execution_count": 41,
   "metadata": {},
   "outputs": [
    {
     "data": {
      "text/plain": [
       "{'Absol', 'Corvisquire', 'Tornadus', 'Zoroark'}"
      ]
     },
     "execution_count": 41,
     "metadata": {},
     "output_type": "execute_result"
    }
   ],
   "source": [
    "full_xouter = (dark.difference(flying)).union(flying.difference(dark))\n",
    "full_xouter"
   ]
  },
  {
   "cell_type": "markdown",
   "metadata": {},
   "source": [
    "## Hidden Area"
   ]
  },
  {
   "cell_type": "markdown",
   "metadata": {},
   "source": [
    "You can use the area below to try your own code."
   ]
  },
  {
   "cell_type": "code",
   "execution_count": 19,
   "metadata": {},
   "outputs": [
    {
     "name": "stdout",
     "output_type": "stream",
     "text": [
      "Union of Dark & Flying type Pokémon = {'Yveltal', 'Moltres(Galarian Form)', 'Corvisquire', 'Absol', 'Zoroark', 'Tornadus'}\n",
      "Intersection of Dark & Flying type Pokémon = {'Yveltal', 'Moltres(Galarian Form)'}\n",
      "Difference of Dark & Flying type Pokémon = {'Absol', 'Zoroark'}\n",
      "Symmetric Difference of Dark & Flying type Pokémon = {'Corvisquire', 'Absol', 'Zoroark', 'Tornadus'}\n",
      "Dark and Flying type Pokémon is Disjoint = False\n",
      "Dark and Ice type Pokémon is Disjoint = True\n",
      "Flying and Ice type Pokémon is Disjoint = True\n",
      "Dark type is subset of Pokémon = True\n",
      "Flying type is subset of Pokémon = True\n",
      "Ice type is subset of Pokémon = True\n"
     ]
    }
   ],
   "source": [
    "P = {'Absol', 'Zoroark', 'Moltres(Galarian Form)', 'Yveltal', 'Corvisquire', 'Tornadus', 'Glalie', 'Cryogonal', 'Glastrier', 'Vanilluxe'}\n",
    "D = {'Absol', 'Zoroark', 'Moltres(Galarian Form)', 'Yveltal'}\n",
    "F = {'Corvisquire', 'Tornadus', 'Moltres(Galarian Form)', 'Yveltal'}\n",
    "I = {'Glalie', 'Cryogonal', 'Glastrier', 'Vanilluxe'}\n",
    "print(\"Union of Dark & Flying type Pokémon =\", D | F)\n",
    "print(\"Intersection of Dark & Flying type Pokémon =\", D & F)\n",
    "print(\"Difference of Dark & Flying type Pokémon =\", D - F)\n",
    "print(\"Symmetric Difference of Dark & Flying type Pokémon =\", D ^ F)\n",
    "print(\"Dark and Flying type Pokémon is Disjoint =\", D.isdisjoint(F))\n",
    "print(\"Dark and Ice type Pokémon is Disjoint =\", D.isdisjoint(I))\n",
    "print(\"Flying and Ice type Pokémon is Disjoint =\", F.isdisjoint(I))\n",
    "print(\"Dark type is subset of Pokémon =\", D.issubset(P))\n",
    "print(\"Flying type is subset of Pokémon =\", F.issubset(P))\n",
    "print(\"Ice type is subset of Pokémon =\", I.issubset(P))"
   ]
  },
  {
   "cell_type": "markdown",
   "metadata": {},
   "source": [
    "## Submitted by: Dy, Sunny A."
   ]
  }
 ],
 "metadata": {
  "kernelspec": {
   "display_name": "Python 3",
   "language": "python",
   "name": "python3"
  },
  "language_info": {
   "codemirror_mode": {
    "name": "ipython",
    "version": 3
   },
   "file_extension": ".py",
   "mimetype": "text/x-python",
   "name": "python",
   "nbconvert_exporter": "python",
   "pygments_lexer": "ipython3",
   "version": "3.8.3"
  }
 },
 "nbformat": 4,
 "nbformat_minor": 4
}
